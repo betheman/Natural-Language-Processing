{
  "nbformat": 4,
  "nbformat_minor": 0,
  "metadata": {
    "colab": {
      "name": "NLP_simple_naive_bayes.ipynb",
      "provenance": [],
      "collapsed_sections": [],
      "mount_file_id": "1J59dqULTCVVcgLRXezMu3G2_UffUhpPD",
      "authorship_tag": "ABX9TyOM/SCcyPltjsQC9/cXjDDO",
      "include_colab_link": true
    },
    "kernelspec": {
      "name": "python3",
      "display_name": "Python 3"
    }
  },
  "cells": [
    {
      "cell_type": "markdown",
      "metadata": {
        "id": "view-in-github",
        "colab_type": "text"
      },
      "source": [
        "<a href=\"https://colab.research.google.com/github/betheman/Natural-Language-Processing/blob/master/spam_detection_simple_naive_bayes.ipynb\" target=\"_parent\"><img src=\"https://colab.research.google.com/assets/colab-badge.svg\" alt=\"Open In Colab\"/></a>"
      ]
    },
    {
      "cell_type": "code",
      "metadata": {
        "id": "pE6FW7qioA_-",
        "colab_type": "code",
        "colab": {}
      },
      "source": [
        "import pandas as pd\n",
        "import numpy as np\n",
        "import matplotlib.pyplot as plt\n",
        "import seaborn as sns\n",
        "import nltk\n",
        "from nltk.corpus import stopwords"
      ],
      "execution_count": 0,
      "outputs": []
    },
    {
      "cell_type": "code",
      "metadata": {
        "id": "8FviIorzoOtn",
        "colab_type": "code",
        "colab": {
          "base_uri": "https://localhost:8080/",
          "height": 70
        },
        "outputId": "d9f25a91-ab29-4812-f056-bb8787be70e6"
      },
      "source": [
        "nltk.download('stopwords')"
      ],
      "execution_count": 34,
      "outputs": [
        {
          "output_type": "stream",
          "text": [
            "[nltk_data] Downloading package stopwords to /root/nltk_data...\n",
            "[nltk_data]   Package stopwords is already up-to-date!\n"
          ],
          "name": "stdout"
        },
        {
          "output_type": "execute_result",
          "data": {
            "text/plain": [
              "True"
            ]
          },
          "metadata": {
            "tags": []
          },
          "execution_count": 34
        }
      ]
    },
    {
      "cell_type": "code",
      "metadata": {
        "id": "CkAs4dl3oPIa",
        "colab_type": "code",
        "colab": {}
      },
      "source": [
        "messages= pd.read_csv('./spam.csv',encoding='latin-1')\n"
      ],
      "execution_count": 0,
      "outputs": []
    },
    {
      "cell_type": "code",
      "metadata": {
        "id": "k9PrmuESoRKb",
        "colab_type": "code",
        "colab": {}
      },
      "source": [
        "df=pd.DataFrame()\n",
        "df[['message','label']]=messages[['v2','v1']]"
      ],
      "execution_count": 0,
      "outputs": []
    },
    {
      "cell_type": "code",
      "metadata": {
        "id": "cDOnw6bxobLk",
        "colab_type": "code",
        "colab": {
          "base_uri": "https://localhost:8080/",
          "height": 197
        },
        "outputId": "5405bee5-00e5-493d-cdc6-9830efa73cb0"
      },
      "source": [
        "df.head()"
      ],
      "execution_count": 37,
      "outputs": [
        {
          "output_type": "execute_result",
          "data": {
            "text/html": [
              "<div>\n",
              "<style scoped>\n",
              "    .dataframe tbody tr th:only-of-type {\n",
              "        vertical-align: middle;\n",
              "    }\n",
              "\n",
              "    .dataframe tbody tr th {\n",
              "        vertical-align: top;\n",
              "    }\n",
              "\n",
              "    .dataframe thead th {\n",
              "        text-align: right;\n",
              "    }\n",
              "</style>\n",
              "<table border=\"1\" class=\"dataframe\">\n",
              "  <thead>\n",
              "    <tr style=\"text-align: right;\">\n",
              "      <th></th>\n",
              "      <th>message</th>\n",
              "      <th>label</th>\n",
              "    </tr>\n",
              "  </thead>\n",
              "  <tbody>\n",
              "    <tr>\n",
              "      <th>0</th>\n",
              "      <td>Go until jurong point, crazy.. Available only ...</td>\n",
              "      <td>ham</td>\n",
              "    </tr>\n",
              "    <tr>\n",
              "      <th>1</th>\n",
              "      <td>Ok lar... Joking wif u oni...</td>\n",
              "      <td>ham</td>\n",
              "    </tr>\n",
              "    <tr>\n",
              "      <th>2</th>\n",
              "      <td>Free entry in 2 a wkly comp to win FA Cup fina...</td>\n",
              "      <td>spam</td>\n",
              "    </tr>\n",
              "    <tr>\n",
              "      <th>3</th>\n",
              "      <td>U dun say so early hor... U c already then say...</td>\n",
              "      <td>ham</td>\n",
              "    </tr>\n",
              "    <tr>\n",
              "      <th>4</th>\n",
              "      <td>Nah I don't think he goes to usf, he lives aro...</td>\n",
              "      <td>ham</td>\n",
              "    </tr>\n",
              "  </tbody>\n",
              "</table>\n",
              "</div>"
            ],
            "text/plain": [
              "                                             message label\n",
              "0  Go until jurong point, crazy.. Available only ...   ham\n",
              "1                      Ok lar... Joking wif u oni...   ham\n",
              "2  Free entry in 2 a wkly comp to win FA Cup fina...  spam\n",
              "3  U dun say so early hor... U c already then say...   ham\n",
              "4  Nah I don't think he goes to usf, he lives aro...   ham"
            ]
          },
          "metadata": {
            "tags": []
          },
          "execution_count": 37
        }
      ]
    },
    {
      "cell_type": "code",
      "metadata": {
        "id": "6KT9p2Kfoc3G",
        "colab_type": "code",
        "colab": {}
      },
      "source": [
        "import string"
      ],
      "execution_count": 0,
      "outputs": []
    },
    {
      "cell_type": "code",
      "metadata": {
        "id": "eP5mhClKpVsF",
        "colab_type": "code",
        "colab": {}
      },
      "source": [
        "# Removing punctuation and stopwords"
      ],
      "execution_count": 0,
      "outputs": []
    },
    {
      "cell_type": "code",
      "metadata": {
        "id": "zcu-JQQIonN1",
        "colab_type": "code",
        "colab": {}
      },
      "source": [
        "def message_cleaning(message):\n",
        "    \n",
        "    chars = [char for char in message if char not in string.punctuation]\n",
        "    message = ''.join(chars)\n",
        "    \n",
        "    return [word for word in message.split() if word.lower() not in stopwords.words('english')]\n",
        "\n",
        "\n",
        "\n"
      ],
      "execution_count": 0,
      "outputs": []
    },
    {
      "cell_type": "code",
      "metadata": {
        "id": "-x1c8FDiooyo",
        "colab_type": "code",
        "colab": {}
      },
      "source": [
        "df['message']=df['message'].apply(message_cleaning)"
      ],
      "execution_count": 0,
      "outputs": []
    },
    {
      "cell_type": "code",
      "metadata": {
        "id": "qtIGUo9jo0Na",
        "colab_type": "code",
        "colab": {
          "base_uri": "https://localhost:8080/",
          "height": 197
        },
        "outputId": "3deeb7c7-4f8e-40c2-fb1d-4b1b5cf5f3c5"
      },
      "source": [
        "df.head()"
      ],
      "execution_count": 42,
      "outputs": [
        {
          "output_type": "execute_result",
          "data": {
            "text/html": [
              "<div>\n",
              "<style scoped>\n",
              "    .dataframe tbody tr th:only-of-type {\n",
              "        vertical-align: middle;\n",
              "    }\n",
              "\n",
              "    .dataframe tbody tr th {\n",
              "        vertical-align: top;\n",
              "    }\n",
              "\n",
              "    .dataframe thead th {\n",
              "        text-align: right;\n",
              "    }\n",
              "</style>\n",
              "<table border=\"1\" class=\"dataframe\">\n",
              "  <thead>\n",
              "    <tr style=\"text-align: right;\">\n",
              "      <th></th>\n",
              "      <th>message</th>\n",
              "      <th>label</th>\n",
              "    </tr>\n",
              "  </thead>\n",
              "  <tbody>\n",
              "    <tr>\n",
              "      <th>0</th>\n",
              "      <td>[Go, jurong, point, crazy, Available, bugis, n...</td>\n",
              "      <td>ham</td>\n",
              "    </tr>\n",
              "    <tr>\n",
              "      <th>1</th>\n",
              "      <td>[Ok, lar, Joking, wif, u, oni]</td>\n",
              "      <td>ham</td>\n",
              "    </tr>\n",
              "    <tr>\n",
              "      <th>2</th>\n",
              "      <td>[Free, entry, 2, wkly, comp, win, FA, Cup, fin...</td>\n",
              "      <td>spam</td>\n",
              "    </tr>\n",
              "    <tr>\n",
              "      <th>3</th>\n",
              "      <td>[U, dun, say, early, hor, U, c, already, say]</td>\n",
              "      <td>ham</td>\n",
              "    </tr>\n",
              "    <tr>\n",
              "      <th>4</th>\n",
              "      <td>[Nah, dont, think, goes, usf, lives, around, t...</td>\n",
              "      <td>ham</td>\n",
              "    </tr>\n",
              "  </tbody>\n",
              "</table>\n",
              "</div>"
            ],
            "text/plain": [
              "                                             message label\n",
              "0  [Go, jurong, point, crazy, Available, bugis, n...   ham\n",
              "1                     [Ok, lar, Joking, wif, u, oni]   ham\n",
              "2  [Free, entry, 2, wkly, comp, win, FA, Cup, fin...  spam\n",
              "3      [U, dun, say, early, hor, U, c, already, say]   ham\n",
              "4  [Nah, dont, think, goes, usf, lives, around, t...   ham"
            ]
          },
          "metadata": {
            "tags": []
          },
          "execution_count": 42
        }
      ]
    },
    {
      "cell_type": "code",
      "metadata": {
        "id": "-X8VBjnxpeGa",
        "colab_type": "code",
        "colab": {}
      },
      "source": [
        "# Performing Stemming"
      ],
      "execution_count": 0,
      "outputs": []
    },
    {
      "cell_type": "code",
      "metadata": {
        "id": "h1TNahodp2Vw",
        "colab_type": "code",
        "colab": {}
      },
      "source": [
        "from nltk.stem import PorterStemmer"
      ],
      "execution_count": 0,
      "outputs": []
    },
    {
      "cell_type": "code",
      "metadata": {
        "id": "elCGDZWko5k-",
        "colab_type": "code",
        "colab": {}
      },
      "source": [
        "def word_stemming(message):\n",
        "  stem_msg=[]\n",
        "  ps = PorterStemmer()\n",
        "  return [ps.stem(word) for word in message]\n",
        "      \n",
        "    \n",
        "\n",
        "\n"
      ],
      "execution_count": 0,
      "outputs": []
    },
    {
      "cell_type": "code",
      "metadata": {
        "id": "qxFaqj4SqHSO",
        "colab_type": "code",
        "colab": {}
      },
      "source": [
        "df['message']=df['message'].apply(word_stemming)"
      ],
      "execution_count": 0,
      "outputs": []
    },
    {
      "cell_type": "code",
      "metadata": {
        "id": "85esSJoOqZ9S",
        "colab_type": "code",
        "colab": {
          "base_uri": "https://localhost:8080/",
          "height": 197
        },
        "outputId": "5b2f7065-366c-456f-e4c2-0ca99c5187b9"
      },
      "source": [
        "df.head()"
      ],
      "execution_count": 47,
      "outputs": [
        {
          "output_type": "execute_result",
          "data": {
            "text/html": [
              "<div>\n",
              "<style scoped>\n",
              "    .dataframe tbody tr th:only-of-type {\n",
              "        vertical-align: middle;\n",
              "    }\n",
              "\n",
              "    .dataframe tbody tr th {\n",
              "        vertical-align: top;\n",
              "    }\n",
              "\n",
              "    .dataframe thead th {\n",
              "        text-align: right;\n",
              "    }\n",
              "</style>\n",
              "<table border=\"1\" class=\"dataframe\">\n",
              "  <thead>\n",
              "    <tr style=\"text-align: right;\">\n",
              "      <th></th>\n",
              "      <th>message</th>\n",
              "      <th>label</th>\n",
              "    </tr>\n",
              "  </thead>\n",
              "  <tbody>\n",
              "    <tr>\n",
              "      <th>0</th>\n",
              "      <td>[Go, jurong, point, crazi, avail, bugi, n, gre...</td>\n",
              "      <td>ham</td>\n",
              "    </tr>\n",
              "    <tr>\n",
              "      <th>1</th>\n",
              "      <td>[Ok, lar, joke, wif, u, oni]</td>\n",
              "      <td>ham</td>\n",
              "    </tr>\n",
              "    <tr>\n",
              "      <th>2</th>\n",
              "      <td>[free, entri, 2, wkli, comp, win, FA, cup, fin...</td>\n",
              "      <td>spam</td>\n",
              "    </tr>\n",
              "    <tr>\n",
              "      <th>3</th>\n",
              "      <td>[U, dun, say, earli, hor, U, c, alreadi, say]</td>\n",
              "      <td>ham</td>\n",
              "    </tr>\n",
              "    <tr>\n",
              "      <th>4</th>\n",
              "      <td>[nah, dont, think, goe, usf, live, around, tho...</td>\n",
              "      <td>ham</td>\n",
              "    </tr>\n",
              "  </tbody>\n",
              "</table>\n",
              "</div>"
            ],
            "text/plain": [
              "                                             message label\n",
              "0  [Go, jurong, point, crazi, avail, bugi, n, gre...   ham\n",
              "1                       [Ok, lar, joke, wif, u, oni]   ham\n",
              "2  [free, entri, 2, wkli, comp, win, FA, cup, fin...  spam\n",
              "3      [U, dun, say, earli, hor, U, c, alreadi, say]   ham\n",
              "4  [nah, dont, think, goe, usf, live, around, tho...   ham"
            ]
          },
          "metadata": {
            "tags": []
          },
          "execution_count": 47
        }
      ]
    },
    {
      "cell_type": "code",
      "metadata": {
        "id": "5xI4SRtesDap",
        "colab_type": "code",
        "colab": {}
      },
      "source": [
        "from sklearn.model_selection import train_test_split"
      ],
      "execution_count": 0,
      "outputs": []
    },
    {
      "cell_type": "code",
      "metadata": {
        "id": "OImIOwcFsICw",
        "colab_type": "code",
        "colab": {}
      },
      "source": [
        "X_train, X_test, y_train, y_test = train_test_split(df['message'],df['label'], test_size=0.25, random_state=42)"
      ],
      "execution_count": 0,
      "outputs": []
    },
    {
      "cell_type": "code",
      "metadata": {
        "id": "6WHu9jRyqjAh",
        "colab_type": "code",
        "colab": {}
      },
      "source": [
        "# Creating word count dictionary according to label"
      ],
      "execution_count": 0,
      "outputs": []
    },
    {
      "cell_type": "code",
      "metadata": {
        "id": "d_O4gZXIq7gM",
        "colab_type": "code",
        "colab": {}
      },
      "source": [
        "ham_dict=dict()\n",
        "spam_dict=dict()"
      ],
      "execution_count": 0,
      "outputs": []
    },
    {
      "cell_type": "code",
      "metadata": {
        "id": "PxB3zo3Zq3X7",
        "colab_type": "code",
        "colab": {}
      },
      "source": [
        "def create_bag_of_words(messages,labels):\n",
        "  for index in messages.index:\n",
        "    label=labels[index]\n",
        "    if label=='ham':\n",
        "       for word in messages[index]:\n",
        "         if word in ham_dict:\n",
        "            ham_dict[word]=ham_dict[word]+1\n",
        "         else:\n",
        "            ham_dict[word]=1\n",
        "    else:\n",
        "       for word in messages[index]:\n",
        "         if word in spam_dict:\n",
        "            spam_dict[word]=spam_dict[word]+1\n",
        "         else:\n",
        "            spam_dict[word]=1\n",
        "\n",
        "\n",
        "\n"
      ],
      "execution_count": 0,
      "outputs": []
    },
    {
      "cell_type": "code",
      "metadata": {
        "id": "4aia6yZ3rgIe",
        "colab_type": "code",
        "colab": {}
      },
      "source": [
        "create_bag_of_words(X_train,y_train)\n"
      ],
      "execution_count": 0,
      "outputs": []
    },
    {
      "cell_type": "code",
      "metadata": {
        "id": "r5IZcVI8rtIp",
        "colab_type": "code",
        "colab": {}
      },
      "source": [
        "# naive bayes algorithm\n",
        "# https://www.geeksforgeeks.org/naive-bayes-classifiers/"
      ],
      "execution_count": 0,
      "outputs": []
    },
    {
      "cell_type": "code",
      "metadata": {
        "id": "sOPQFO6910jQ",
        "colab_type": "code",
        "colab": {}
      },
      "source": [
        "train_df=pd.DataFrame()\n",
        "train_df['label']=y_train"
      ],
      "execution_count": 0,
      "outputs": []
    },
    {
      "cell_type": "code",
      "metadata": {
        "id": "kEled2lX2fJt",
        "colab_type": "code",
        "colab": {}
      },
      "source": [
        "total_count=len(train_df)\n",
        "spam_count=len(train_df[train_df['label']=='spam'])\n",
        "ham_count=len(train_df[train_df['label']=='ham'])"
      ],
      "execution_count": 0,
      "outputs": []
    },
    {
      "cell_type": "code",
      "metadata": {
        "id": "nSE_9CUU3OpA",
        "colab_type": "code",
        "colab": {
          "base_uri": "https://localhost:8080/",
          "height": 52
        },
        "outputId": "ad75524f-e54e-4761-d267-d37765d1bcbe"
      },
      "source": [
        "print(ham_count)\n",
        "print(spam_count)"
      ],
      "execution_count": 106,
      "outputs": [
        {
          "output_type": "stream",
          "text": [
            "3623\n",
            "556\n"
          ],
          "name": "stdout"
        }
      ]
    },
    {
      "cell_type": "code",
      "metadata": {
        "id": "SLnSxd_i0Z35",
        "colab_type": "code",
        "colab": {}
      },
      "source": [
        "def predict(messages):\n",
        "    predictions=[]\n",
        "    # calculating spam and ham probability\n",
        "    p_spam=(spam_count/total_count)\n",
        "    p_ham=(ham_count/total_count)\n",
        "    for message in messages:\n",
        "        coditional_probability_ham=p_ham\n",
        "        coditional_probability_spam=p_spam\n",
        "        for word in message:\n",
        "          if word in ham_dict:\n",
        "             coditional_probability_ham=coditional_probability_ham*(ham_dict[word]/ham_count)\n",
        "          else:\n",
        "             coditional_probability_ham=coditional_probability_ham*(1/ham_count)\n",
        "          if word in spam_dict:\n",
        "             coditional_probability_spam=coditional_probability_spam*(spam_dict[word]/spam_count)\n",
        "          else:\n",
        "             coditional_probability_spam=coditional_probability_spam*(1/spam_count)\n",
        "        if coditional_probability_spam>coditional_probability_ham:\n",
        "          predictions.append('spam')\n",
        "        else:\n",
        "          predictions.append('ham')\n",
        "    return predictions\n",
        "\n",
        "\n",
        "\n",
        "\n",
        "\n",
        "\n",
        "\n"
      ],
      "execution_count": 0,
      "outputs": []
    },
    {
      "cell_type": "code",
      "metadata": {
        "id": "Baes46ZK5ZiW",
        "colab_type": "code",
        "colab": {}
      },
      "source": [
        "predictions=predict(X_test)"
      ],
      "execution_count": 0,
      "outputs": []
    },
    {
      "cell_type": "code",
      "metadata": {
        "id": "-P1_mIYm6-Lc",
        "colab_type": "code",
        "colab": {}
      },
      "source": [
        "predictions=pd.Series(predictions)"
      ],
      "execution_count": 0,
      "outputs": []
    },
    {
      "cell_type": "code",
      "metadata": {
        "id": "D2XMrgjp7cPP",
        "colab_type": "code",
        "colab": {}
      },
      "source": [
        "from sklearn.metrics import confusion_matrix,classification_report"
      ],
      "execution_count": 0,
      "outputs": []
    },
    {
      "cell_type": "code",
      "metadata": {
        "id": "wowLwe_a7sKQ",
        "colab_type": "code",
        "colab": {
          "base_uri": "https://localhost:8080/",
          "height": 52
        },
        "outputId": "efff09c6-f542-49e1-e5a3-4d96ced07bf8"
      },
      "source": [
        "confusion_matrix(y_test,predictions)"
      ],
      "execution_count": 119,
      "outputs": [
        {
          "output_type": "execute_result",
          "data": {
            "text/plain": [
              "array([[852, 350],\n",
              "       [  2, 189]])"
            ]
          },
          "metadata": {
            "tags": []
          },
          "execution_count": 119
        }
      ]
    },
    {
      "cell_type": "code",
      "metadata": {
        "id": "Exu-ahDC748g",
        "colab_type": "code",
        "colab": {
          "base_uri": "https://localhost:8080/",
          "height": 176
        },
        "outputId": "3f2ad4db-d0fb-4e9b-c6df-67d3632528e0"
      },
      "source": [
        "print(classification_report(y_test,predictions))"
      ],
      "execution_count": 120,
      "outputs": [
        {
          "output_type": "stream",
          "text": [
            "              precision    recall  f1-score   support\n",
            "\n",
            "         ham       1.00      0.71      0.83      1202\n",
            "        spam       0.35      0.99      0.52       191\n",
            "\n",
            "    accuracy                           0.75      1393\n",
            "   macro avg       0.67      0.85      0.67      1393\n",
            "weighted avg       0.91      0.75      0.79      1393\n",
            "\n"
          ],
          "name": "stdout"
        }
      ]
    },
    {
      "cell_type": "code",
      "metadata": {
        "id": "bOS3-JlM8EL4",
        "colab_type": "code",
        "colab": {}
      },
      "source": [
        ""
      ],
      "execution_count": 0,
      "outputs": []
    }
  ]
}
